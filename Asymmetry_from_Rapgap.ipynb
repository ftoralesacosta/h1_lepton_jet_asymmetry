{
 "cells": [
  {
   "cell_type": "markdown",
   "id": "101f1d55",
   "metadata": {},
   "source": [
    "# Lepton - Jet Asymmetry\n",
    "\n",
    "### $\\phi$ is defined as the angle between the total transverse momentum of the system,\n",
    "\n",
    "### $\\vec{q}_\\perp = \\vec{k}_{\\ell\\perp} + \\vec{k}_{J\\perp}$, \n",
    "\n",
    "### and the jet relative momentum,\n",
    "\n",
    "### $\\vec{P_\\perp} = (\\vec{k}_{\\ell\\perp} - \\vec{k}_{J\\perp})/2$\n",
    "\n",
    "### Thus:\n",
    "\n",
    "### $\\cos(\\phi) = (\\vec{q}_\\perp \\cdot \\vec{P_\\perp})\\ /\\ |\\vec{q}_\\perp| |\\vec{P_\\perp}|$\n",
    "\n",
    "### and $\\phi = \\mathrm{acos}[(\\vec{q}_\\perp \\cdot \\vec{P_\\perp})\\ /\\ |\\vec{q}_\\perp| |\\vec{P_\\perp}|]$\n",
    "\n",
    "### Assumption: Perturbative iff $\\vec{q}_\\perp << \\vec{P_\\perp}$\n",
    "\n",
    "### Note: $\\hat{t} = (k_l-k)^2 = -Q^2$\n",
    "\n",
    "https://arxiv.org/pdf/2106.05307.pdf"
   ]
  },
  {
   "cell_type": "code",
   "execution_count": 1,
   "id": "5445452f",
   "metadata": {},
   "outputs": [
    {
     "name": "stdout",
     "output_type": "stream",
     "text": [
      "[PhysicalDevice(name='/physical_device:GPU:0', device_type='GPU')]\n"
     ]
    }
   ],
   "source": [
    "import sys\n",
    "\n",
    "import numpy as np\n",
    "import pandas as pd\n",
    "import matplotlib.pyplot as plt\n",
    "import gc\n",
    "from matplotlib import gridspec\n",
    "import time\n",
    "import tensorflow as tf\n",
    "from sklearn.preprocessing import StandardScaler\n",
    "import h5py\n",
    "\n",
    "import os\n",
    "os.environ['CUDA_VISIBLE_DEVICES']=\"3\"\n",
    "\n",
    "physical_devices = tf.config.list_physical_devices('GPU')\n",
    "print(physical_devices)\n",
    "\n",
    "tf.config.experimental.set_memory_growth(physical_devices[0], True)\n",
    "\n",
    "from matplotlib import style\n",
    "style.use('/global/home/users/ftoralesacosta/dotfiles/scientific.mplstyle')"
   ]
  },
  {
   "cell_type": "markdown",
   "id": "a2785bb0-c595-48de-af1a-44066f0ac444",
   "metadata": {},
   "source": [
    "## Read in Data and MC"
   ]
  },
  {
   "cell_type": "code",
   "execution_count": 2,
   "id": "1f2e156e-fc1c-4244-acc3-d372a6e0deea",
   "metadata": {},
   "outputs": [],
   "source": [
    "data = pd.read_pickle(\"/clusterfs/ml4hep/yxu2/unfolding_mc_inputs/Data_nominal.pkl\")\n",
    "mc = pd.read_pickle(\"/clusterfs/ml4hep/yxu2/unfolding_mc_inputs/Rapgap_nominal.pkl\")\n",
    "#rapgap_df = pd.read_pickle(\"/clusterfs/ml4hep/yxu2/unfolding_mc_inputs/Rapgap_nominal.pkl\")"
   ]
  },
  {
   "cell_type": "markdown",
   "id": "a790e14f-5680-48e3-91e7-10be3dc5e5a1",
   "metadata": {},
   "source": [
    "### Select Leading Jets Only"
   ]
  },
  {
   "cell_type": "code",
   "execution_count": 5,
   "id": "052e2364-3f3a-4bee-9e01-f083915e165a",
   "metadata": {},
   "outputs": [],
   "source": [
    "one_jet_events_only = False\n",
    "if (one_jet_events_only):\n",
    "    data = data.loc[(slice(None),0), :]\n",
    "    mc = mc.loc[(slice(None),0), :]\n",
    "    print(\"Number of subjets cut = \",njets_tot-len(data[\"e_px\"]),\" / \",len(data[\"jet_pt\"]))"
   ]
  },
  {
   "cell_type": "markdown",
   "id": "219c7eb4-4919-4a48-a2a5-1555f1ac5b98",
   "metadata": {},
   "source": [
    "The above keeps only the first subentry. Because of the structure DF, this keeps the event and jet kinematics of the leading jets (index 0). More examples can be seen [here](https://riptutorial.com/pandas/example/26110/using--loc-and-slicers). Pandas MultiIndex docs are [here](https://awkward-array.org/how-to-convert-pandas.html?highlight=subentry)"
   ]
  },
  {
   "cell_type": "markdown",
   "id": "e22c088c-13fc-4ea4-82ec-8e157a16ac61",
   "metadata": {},
   "source": [
    "### $\\theta_{\\mathrm{unknown}S}$"
   ]
  },
  {
   "cell_type": "code",
   "execution_count": 6,
   "id": "d0a4c377",
   "metadata": {},
   "outputs": [
    {
     "data": {
      "text/plain": [
       "StandardScaler()"
      ]
     },
     "execution_count": 6,
     "metadata": {},
     "output_type": "execute_result"
    }
   ],
   "source": [
    "theta_unknown_S = data[['e_px','e_py','e_pz','jet_pt','jet_eta','jet_phi','jet_dphi','jet_qtnorm']].to_numpy()\n",
    "scaler_data = StandardScaler()\n",
    "scaler_data.fit(theta_unknown_S)"
   ]
  },
  {
   "cell_type": "markdown",
   "id": "727ce301-694f-4567-a909-28e6b0be4426",
   "metadata": {},
   "source": [
    "### $\\theta_{G}$"
   ]
  },
  {
   "cell_type": "code",
   "execution_count": 7,
   "id": "fd416b73",
   "metadata": {},
   "outputs": [],
   "source": [
    "theta0_G = mc[['gene_px','gene_py','gene_pz','genjet_pt','genjet_eta','genjet_phi','genjet_dphi','genjet_qtnorm']].to_numpy()\n",
    "weights_MC_sim = mc['wgt']\n",
    "pass_reco = np.array(mc['pass_reco'])\n",
    "pass_truth = np.array(mc['pass_truth'])\n",
    "pass_fiducial = np.array(mc['pass_fiducial'])\n",
    "del mc\n",
    "_ = gc.collect()"
   ]
  },
  {
   "cell_type": "code",
   "execution_count": 8,
   "id": "b9fc566c-bcd0-4926-931f-e21644bdac27",
   "metadata": {},
   "outputs": [
    {
     "name": "stdout",
     "output_type": "stream",
     "text": [
      "0.15491290270260472\n"
     ]
    }
   ],
   "source": [
    "print(np.sum(pass_fiducial)/len(pass_fiducial))"
   ]
  },
  {
   "cell_type": "markdown",
   "id": "0389f9c9-0dea-49b8-81ac-80dedc3f03a9",
   "metadata": {},
   "source": [
    "### Step 2 NN Weights"
   ]
  },
  {
   "cell_type": "code",
   "execution_count": 9,
   "id": "e2c17660",
   "metadata": {
    "tags": []
   },
   "outputs": [
    {
     "name": "stderr",
     "output_type": "stream",
     "text": [
      "2022-10-19 15:15:16.346252: I tensorflow/core/platform/cpu_feature_guard.cc:142] This TensorFlow binary is optimized with oneAPI Deep Neural Network Library (oneDNN) to use the following CPU instructions in performance-critical operations:  AVX2 FMA\n",
      "To enable them in other operations, rebuild TensorFlow with the appropriate compiler flags.\n",
      "2022-10-19 15:15:16.892483: I tensorflow/core/common_runtime/gpu/gpu_device.cc:1510] Created device /job:localhost/replica:0/task:0/device:GPU:0 with 22852 MB memory:  -> device: 0, name: Quadro RTX 6000, pci bus id: 0000:c1:00.0, compute capability: 7.5\n",
      "2022-10-19 15:15:23.240193: I tensorflow/compiler/mlir/mlir_graph_optimization_pass.cc:185] None of the MLIR Optimization Passes are enabled (registered 2)\n"
     ]
    }
   ],
   "source": [
    "NNweights_step2 = np.ones(len(theta0_G))\n",
    "for i in range(5):\n",
    "    mymodel = tf.keras.models.load_model(\"../../disjets/inputfiles/fullscan3/models/Rapgap_nominal_iteration\"+str(i)+\"_step2\", compile=False)\n",
    "    NNweights_step2_hold = mymodel.predict(scaler_data.transform(theta0_G),batch_size=10000)\n",
    "    NNweights_step2_hold = NNweights_step2_hold/(1.-NNweights_step2_hold)\n",
    "    NNweights_step2_hold = NNweights_step2_hold[:,0]\n",
    "    NNweights_step2_hold = np.squeeze(np.nan_to_num(NNweights_step2_hold,posinf=1))\n",
    "    NNweights_step2_hold[pass_truth==0] = 1.\n",
    "    NNweights_step2 = NNweights_step2_hold*NNweights_step2"
   ]
  },
  {
   "cell_type": "code",
   "execution_count": 10,
   "id": "6780fcb6-e154-4304-8556-cfc582175ac1",
   "metadata": {},
   "outputs": [],
   "source": [
    "weights = weights_MC_sim*NNweights_step2"
   ]
  },
  {
   "cell_type": "markdown",
   "id": "e872c7cb-0f26-4900-ba0b-fae9d42006c6",
   "metadata": {},
   "source": [
    "---"
   ]
  },
  {
   "cell_type": "markdown",
   "id": "2f76de1f",
   "metadata": {},
   "source": [
    "### $\\vec{q}_\\perp = \\vec{k}_{\\ell\\perp} + \\vec{k}_{J\\perp}$  and  $\\vec{P_\\perp} = (\\vec{k}_{\\ell\\perp} - \\vec{k}_{J\\perp})/2$\n",
    "### $\\cos(\\phi) = (\\vec{q}_\\perp \\cdot \\vec{P_\\perp})\\ /\\ |\\vec{q}_\\perp| |\\vec{P_\\perp}|$"
   ]
  },
  {
   "cell_type": "code",
   "execution_count": 11,
   "id": "b8395489",
   "metadata": {},
   "outputs": [
    {
     "name": "stdout",
     "output_type": "stream",
     "text": [
      "3.0\n",
      "2.5982466e-08 6.283185\n",
      "3.0\n",
      "(84183898,)\n",
      "(84183898,)\n",
      "(84183898,)\n"
     ]
    },
    {
     "name": "stderr",
     "output_type": "stream",
     "text": [
      "/tmp/ipykernel_2546/1280418166.py:30: RuntimeWarning: invalid value encountered in arccos\n",
      "  asymm_phi = np.arccos(cosphi)\n"
     ]
    }
   ],
   "source": [
    "e_px = theta0_G[:,0]\n",
    "e_py = theta0_G[:,1]\n",
    "\n",
    "jet_pT_mag = theta0_G[:,3]\n",
    "jet_phi = theta0_G[:,5]\n",
    "print(min(jet_pT_mag))\n",
    "\n",
    "jet_qT = theta0_G[:,7] #[not to be confused with q_Perp!]\n",
    "\n",
    "print(min(jet_phi),max(jet_phi))\n",
    "print(min(jet_pT_mag))\n",
    "\n",
    "jet_px = np.multiply(jet_pT_mag, np.cos(jet_phi))\n",
    "jet_py = np.multiply(jet_pT_mag, np.sin(jet_phi))\n",
    "\n",
    "jet_pT = np.array([jet_px,jet_py])\n",
    "e_pT = np.array([e_px,e_py])\n",
    "\n",
    "q_perp_vec = jet_pT + e_pT\n",
    "P_perp_vec = (e_pT-jet_pT)/2\n",
    "\n",
    "q_perp_mag = np.linalg.norm(q_perp_vec,axis=0)\n",
    "P_perp_mag = np.linalg.norm(P_perp_vec,axis=0)\n",
    "\n",
    "\n",
    "\n",
    "q_dot_P = q_perp_vec[0,:]*P_perp_vec[0,:] + q_perp_vec[1,:]*P_perp_vec[1,:]\n",
    "\n",
    "cosphi = (q_dot_P)/(q_perp_mag*P_perp_mag)\n",
    "asymm_phi = np.arccos(cosphi)\n",
    "#7.32459e-08 6.283185\n",
    "print(np.shape(q_perp_mag))\n",
    "print(np.shape(jet_phi))\n",
    "print(np.shape(asymm_phi))"
   ]
  },
  {
   "cell_type": "markdown",
   "id": "fe5b21d5-9166-4925-9fe3-951d0e20a220",
   "metadata": {},
   "source": [
    "### Define Cuts"
   ]
  },
  {
   "cell_type": "code",
   "execution_count": 22,
   "id": "34fa7672-66f0-4eab-809c-b4bee271705b",
   "metadata": {},
   "outputs": [
    {
     "name": "stdout",
     "output_type": "stream",
     "text": [
      "(84183898,)\n",
      "84183898\n",
      "84183898\n",
      "84183898\n",
      "84183898\n",
      "84183898\n"
     ]
    }
   ],
   "source": [
    "#pass_fiducial created under theta_G\n",
    "pT_cut = jet_pT_mag > 10.\n",
    "q_over_pT_cut = q_perp_mag/jet_pT_mag < 0.3 #Kyle guessed ~0.3, needs variation\n",
    "qT_cut = np.where((jet_qT<0.25), True, False)\n",
    "phi_nan_cut = ~np.isnan(asymm_phi)\n",
    "#q_perp_cut = q_perp_mag < 10.0 #q_perp_max\n",
    "\n",
    "print(np.shape(pT_cut))\n",
    "#print(np.shape(q_perp_cut))\n",
    "\n",
    "\n",
    "cut_arrays = [pass_fiducial,\n",
    "              pT_cut,\n",
    "              q_over_pT_cut,\n",
    "              qT_cut,\n",
    "              phi_nan_cut]\n",
    "              #q_perp_cut]\n",
    "\n",
    "cuts = np.ones(len(pT_cut))\n",
    "\n",
    "for cut in cut_arrays:\n",
    "    print(len(cut))\n",
    "    cuts = np.logical_and(cuts,cut)"
   ]
  },
  {
   "cell_type": "markdown",
   "id": "e9038248-c8bb-408c-840b-fc54ecd45b36",
   "metadata": {},
   "source": [
    "___"
   ]
  },
  {
   "cell_type": "markdown",
   "id": "3014ba1a-b8ea-464e-9b02-3c83fe20e07b",
   "metadata": {},
   "source": [
    "### Asymmetry Histogram"
   ]
  },
  {
   "cell_type": "code",
   "execution_count": 13,
   "id": "6abb5cb8",
   "metadata": {},
   "outputs": [
    {
     "data": {
      "image/png": "[encoded data removed]",
      "text/plain": [
       "<Figure size 720x720 with 1 Axes>"
      ]
     },
     "metadata": {
      "needs_background": "light"
     },
     "output_type": "display_data"
    }
   ],
   "source": [
    "plt.rcParams.update({'font.size': 12})\n",
    "fig = plt.figure(figsize=(10, 10)) \n",
    "gs = gridspec.GridSpec(2, 1, height_ratios=[2,1]) \n",
    "ax0 = plt.subplot(gs[0])\n",
    "ax0.yaxis.set_ticks_position('both')\n",
    "ax0.xaxis.set_ticks_position('both')\n",
    "ax0.tick_params(direction=\"in\",which=\"both\")\n",
    "ax0.minorticks_on()\n",
    "plt.xticks(fontsize=0)\n",
    "plt.yticks(fontsize=20)\n",
    "#bin_for_angle = np.linspace(0,3,18)\n",
    "bin_for_angle = np.linspace(-1,1,51)\n",
    "\n",
    "a_data,b_data,c=plt.hist(cosphi[cuts], bins = bin_for_angle,\n",
    "                weights=weights_MC_sim[cuts]*NNweights_step2[cuts],\n",
    "                density=True,histtype=\"step\",color=\"blue\",ls=\"-\",label=\"Nominal Omnifold\")\n",
    "\n",
    "a_sim,b_sim,c=plt.hist(cosphi[cuts], bins = bin_for_angle,\n",
    "                weights=weights_MC_sim[cuts],\n",
    "                density=True,histtype=\"step\",color=\"red\",ls=\":\",label=\"Rapgap Truth\")\n",
    "\n",
    "plt.ylabel(\"Normalized to unity\",fontsize=20)\n",
    "plt.title(\"Asymmetry Distribution \",loc=\"left\",fontsize=20)\n",
    "plt.text(0.65, 0.95,'H1 internal', horizontalalignment='center', verticalalignment='center', transform = ax0.transAxes, fontsize=25, fontweight='bold')\n",
    "plt.legend(frameon=False,fontsize=15,loc='upper left')\n",
    "plt.locator_params(axis='x', nbins=5)\n",
    "#plt.yscale(\"log\")\n",
    "plt.yticks(fontsize=20)\n",
    "plt.xticks(fontsize=20),\n",
    "\n",
    "#plt.xlabel(r\"$cos(\\phi) = q_T\\cdot e_{p_T}/(|q_T|\\cdot|e_{p_T}|)$\",fontsize=15)\n",
    "plt.xlabel(r'cos($\\phi) = (\\vec{q}_\\perp \\cdot \\vec{P}_\\perp)\\ /\\ |\\vec{q}_\\perp| |\\vec{P}_\\perp|$',fontsize=20)\n",
    "\n",
    "plt.savefig(\"H1_Angle_Distribution.pdf\")\n",
    "plt.tight_layout()\n",
    "plt.show()"
   ]
  },
  {
   "cell_type": "code",
   "execution_count": null,
   "id": "5975e86a-304a-41c4-ab24-a09fbcdd2292",
   "metadata": {},
   "outputs": [],
   "source": []
  },
  {
   "cell_type": "code",
   "execution_count": 18,
   "id": "bf8480db-18de-4429-abc7-b33831a47e4c",
   "metadata": {},
   "outputs": [],
   "source": [
    "#np.save('from_rapgap_qT_masks',qT_masks)\n",
    "np.save('from_rapgap_jet_pT.npy',jet_pT_mag)\n",
    "np.save('from_rapgap_cuts.npy',cuts)\n",
    "np.save('from_rapgap_q_perp.npy',q_perp_mag)\n",
    "np.save('from_rapgap_asymm_angle.npy',asymm_phi)\n",
    "np.save('from_rapgap_weights.npy',weights)\n",
    "np.save(\"from_rapgap_nn_weights.npy\",NNweights_step2)\n",
    "np.save(\"from_rapgap_mc_weights.npy\",weights_MC_sim)"
   ]
  },
  {
   "cell_type": "code",
   "execution_count": 15,
   "id": "9fa8113c-fe5d-4e91-a270-2cdeedbe63b2",
   "metadata": {},
   "outputs": [
    {
     "name": "stdout",
     "output_type": "stream",
     "text": [
      "84183898\n",
      "84183898\n"
     ]
    }
   ],
   "source": [
    "print(len(cuts))\n",
    "print(len(q_perp_mag))"
   ]
  },
  {
   "cell_type": "code",
   "execution_count": 23,
   "id": "5ff6d314-8f8f-4fdd-bd38-f061f8c68d05",
   "metadata": {},
   "outputs": [],
   "source": [
    "cuts_h1rpgp       = np.load('from_rapgap_cuts.npy')\n",
    "q_perp_h1rpgp     = np.load('from_rapgap_q_perp.npy')"
   ]
  },
  {
   "cell_type": "code",
   "execution_count": 24,
   "id": "a52c7f08-d4ec-4070-b7e3-562528c40ae7",
   "metadata": {},
   "outputs": [
    {
     "name": "stdout",
     "output_type": "stream",
     "text": [
      "84183898\n",
      "84183898\n"
     ]
    }
   ],
   "source": [
    "print(len(cuts_h1rpgp))\n",
    "print(len(q_perp_h1rpgp))"
   ]
  },
  {
   "cell_type": "code",
   "execution_count": null,
   "id": "56d69c84-5d95-402a-91e1-72a5fb6f239e",
   "metadata": {},
   "outputs": [],
   "source": []
  }
 ],
 "metadata": {
  "kernelspec": {
   "display_name": "h1jets",
   "language": "python",
   "name": "tf2"
  },
  "language_info": {
   "codemirror_mode": {
    "name": "ipython",
    "version": 3
   },
   "file_extension": ".py",
   "mimetype": "text/x-python",
   "name": "python",
   "nbconvert_exporter": "python",
   "pygments_lexer": "ipython3",
   "version": "3.8.11"
  }
 },
 "nbformat": 4,
 "nbformat_minor": 5
}
