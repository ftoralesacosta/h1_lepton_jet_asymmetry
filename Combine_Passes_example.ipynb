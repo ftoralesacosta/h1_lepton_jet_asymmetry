{
 "cells": [
  {
   "cell_type": "code",
   "execution_count": 1,
   "id": "33cd5d1d-78e2-4eef-922a-452bb87b70c3",
   "metadata": {},
   "outputs": [],
   "source": [
    "import numpy as np\n",
    "import matplotlib.pyplot as plt"
   ]
  },
  {
   "cell_type": "code",
   "execution_count": 2,
   "id": "f66ca9ea-8ec2-4744-ab49-2498a2a015a3",
   "metadata": {},
   "outputs": [
    {
     "name": "stdout",
     "output_type": "stream",
     "text": [
      "(4, 57882501)\n"
     ]
    }
   ],
   "source": [
    "#base = \"./models/Feb20_NewNominalRapgap_new_nominal_NNweights_step2_Pass\"\n",
    "base = \"./models/Feb20_sysnominalDjango_nominal_NNweights_step2_Pass\"\n",
    "n_passes = 5\n",
    "passes = []\n",
    "for p in range(1,n_passes):\n",
    "    file = f\"{base}{p}.npy\"\n",
    "    passes.append(np.load(file))\n",
    "print(np.shape(passes))"
   ]
  },
  {
   "cell_type": "code",
   "execution_count": 3,
   "id": "2ace65ff-6cca-4483-a5e5-ce5ff8e4c6d8",
   "metadata": {},
   "outputs": [
    {
     "name": "stdout",
     "output_type": "stream",
     "text": [
      "(57882501,)\n"
     ]
    }
   ],
   "source": [
    "new_nominal = np.mean(passes,axis=0)\n",
    "print(np.shape(new_nominal))"
   ]
  },
  {
   "cell_type": "code",
   "execution_count": 4,
   "id": "bd26a653-f414-4461-adec-f371ecaca9ee",
   "metadata": {},
   "outputs": [
    {
     "name": "stdout",
     "output_type": "stream",
     "text": [
      "[1.4130825  1.15722684 1.02433679 ... 1.09151582 1.19204759 1.59608134]\n"
     ]
    }
   ],
   "source": [
    "print(new_nominal)"
   ]
  },
  {
   "cell_type": "code",
   "execution_count": 5,
   "id": "f0d2408f-872f-4784-933d-7651812f77fb",
   "metadata": {},
   "outputs": [],
   "source": [
    "np.save(\"Iter20_Django_nominal_Feb14.npy\",new_nominal)"
   ]
  },
  {
   "cell_type": "code",
   "execution_count": null,
   "id": "4ec31d00-b3d3-406c-a70e-e4de8216c386",
   "metadata": {},
   "outputs": [],
   "source": []
  }
 ],
 "metadata": {
  "kernelspec": {
   "display_name": "Python 3",
   "language": "python",
   "name": "python3"
  },
  "language_info": {
   "codemirror_mode": {
    "name": "ipython",
    "version": 3
   },
   "file_extension": ".py",
   "mimetype": "text/x-python",
   "name": "python",
   "nbconvert_exporter": "python",
   "pygments_lexer": "ipython3",
   "version": "3.8.8"
  }
 },
 "nbformat": 4,
 "nbformat_minor": 5
}
