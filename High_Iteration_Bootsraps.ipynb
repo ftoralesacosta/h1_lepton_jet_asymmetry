{
 "cells": [
  {
   "cell_type": "code",
   "execution_count": 1,
   "id": "52bf0cd3-be7d-45e9-a31c-876118c8f3b0",
   "metadata": {},
   "outputs": [],
   "source": [
    "import numpy as np                                                                                                                                             \n",
    "import pandas as pd                                                                                                                                            \n",
    "import tensorflow as tf                                                                                                                                        \n",
    "from sklearn.preprocessing import StandardScaler                                                                                                               \n",
    "from tqdm import tqdm\n",
    "import matplotlib.pyplot as plt\n",
    "                                                                                                                                                               \n",
    "import os                                                                                                                                                      \n",
    "os.environ['CUDA_VISIBLE_DEVICES']=\"3\"\n",
    "physical_devices = tf.config.list_physical_devices('GPU')                                                                                                      \n",
    "tf.config.experimental.set_memory_growth(physical_devices[0], True)                                                                                            \n",
    "                                                                                                                                                               \n",
    "mc = pd.read_pickle(\"/clusterfs/ml4hep/yxu2/unfolding_mc_inputs/Rapgap_nominal.pkl\")                                                                           \n",
    "data = pd.read_pickle(\"/clusterfs/ml4hep/yxu2/unfolding_mc_inputs/Data_nominal.pkl\") "
   ]
  },
  {
   "cell_type": "code",
   "execution_count": 2,
   "id": "430a163b-63d8-4a38-9400-4ede8e02700e",
   "metadata": {},
   "outputs": [
    {
     "name": "stdout",
     "output_type": "stream",
     "text": [
      "\n",
      " Length of theta0G = 54120771 \n",
      "\n"
     ]
    }
   ],
   "source": [
    "#Apply Cuts                                                                                                                                                    \n",
    "cut_subleading_jet = True                                                                                                                                      \n",
    "if cut_subleading_jet:                                                                                                                                         \n",
    "    mc = mc.loc[(slice(None),0), :]                                                                                                                            \n",
    "    data = data.loc[(slice(None),0), :]                                                                                                                        \n",
    "                                                                                                                                                               \n",
    "pass_fiducial = np.array(mc['pass_fiducial'])                                                                                                                  \n",
    "pass_truth = np.array(mc['pass_truth'])                                                                                                                        \n",
    "                                                                                                                                                               \n",
    "theta0_G = mc[['gene_px','gene_py','gene_pz','genjet_pt','genjet_eta','genjet_phi','genjet_dphi','genjet_qtnorm']].to_numpy()\n",
    "theta_unknown_S = data[['e_px','e_py','e_pz','jet_pt','jet_eta','jet_phi','jet_dphi','jet_qtnorm']].to_numpy()\n",
    "\n",
    "#Get StandardScalar from raw data, apply to Rapgap in each iteration later                                                                                     \n",
    "scaler_data = StandardScaler()                                                                                                                                 \n",
    "scaler_data.fit(theta_unknown_S)                                                                                                                               \n",
    "print(\"\\n Length of theta0G =\",len(theta0_G),\"\\n\")                                                                                                        \n",
    "                                                                                                                                                                                                                      "
   ]
  },
  {
   "cell_type": "code",
   "execution_count": 3,
   "id": "006b83b7-690c-4ea6-9ab6-5218354ebd31",
   "metadata": {},
   "outputs": [],
   "source": [
    "N_Iter = 18 #technically 0-19, but boot 4 failed the last one...\n",
    "N_Boots = 5 #1-4. Fencepost!\n",
    "path = \"/clusterfs/ml4hep_nvme2/ftoralesacosta/h1_check/h1_lepton_jet_asymmetry/models/npy_20_iterations_5boots\"\n"
   ]
  },
  {
   "cell_type": "code",
   "execution_count": 4,
   "id": "d1725831-25a5-4a5e-b1dc-380d7f9e4a76",
   "metadata": {
    "tags": []
   },
   "outputs": [
    {
     "ename": "FileNotFoundError",
     "evalue": "[Errno 2] No such file or directory: '/clusterfs/ml4hep_nvme2/ftoralesacosta/h1_check/h1_lepton_jet_asymmetry/models/npy_20_iterations_5boots/Rapgap_bootstrap_1_NNweights_step2_iteration_1.npy'",
     "output_type": "error",
     "traceback": [
      "\u001b[0;31m---------------------------------------------------------------------------\u001b[0m",
      "\u001b[0;31mFileNotFoundError\u001b[0m                         Traceback (most recent call last)",
      "\u001b[0;32m/tmp/ipykernel_20660/3270531675.py\u001b[0m in \u001b[0;36m<module>\u001b[0;34m\u001b[0m\n\u001b[1;32m      1\u001b[0m \u001b[0;31m#Check the weights work as expected for one bootstrap\u001b[0m\u001b[0;34m\u001b[0m\u001b[0;34m\u001b[0m\u001b[0;34m\u001b[0m\u001b[0m\n\u001b[1;32m      2\u001b[0m \u001b[0;32mfor\u001b[0m \u001b[0mi\u001b[0m \u001b[0;32min\u001b[0m \u001b[0;34m[\u001b[0m\u001b[0;36m1\u001b[0m\u001b[0;34m,\u001b[0m\u001b[0;36m2\u001b[0m\u001b[0;34m,\u001b[0m\u001b[0;36m3\u001b[0m\u001b[0;34m,\u001b[0m\u001b[0;36m4\u001b[0m\u001b[0;34m,\u001b[0m\u001b[0;36m5\u001b[0m\u001b[0;34m,\u001b[0m\u001b[0;36m10\u001b[0m\u001b[0;34m,\u001b[0m\u001b[0;36m15\u001b[0m\u001b[0;34m,\u001b[0m\u001b[0;36m19\u001b[0m\u001b[0;34m]\u001b[0m\u001b[0;34m:\u001b[0m\u001b[0;34m\u001b[0m\u001b[0;34m\u001b[0m\u001b[0m\n\u001b[0;32m----> 3\u001b[0;31m     \u001b[0mweights\u001b[0m \u001b[0;34m=\u001b[0m \u001b[0mnp\u001b[0m\u001b[0;34m.\u001b[0m\u001b[0mload\u001b[0m\u001b[0;34m(\u001b[0m\u001b[0;34mf\"{path}/Rapgap_bootstrap_{1}_NNweights_step2_iteration_{i}.npy\"\u001b[0m\u001b[0;34m)\u001b[0m\u001b[0;34m\u001b[0m\u001b[0;34m\u001b[0m\u001b[0m\n\u001b[0m\u001b[1;32m      4\u001b[0m     \u001b[0mplt\u001b[0m\u001b[0;34m.\u001b[0m\u001b[0mhist\u001b[0m\u001b[0;34m(\u001b[0m\u001b[0mweights\u001b[0m\u001b[0;34m,\u001b[0m\u001b[0mlabel\u001b[0m\u001b[0;34m=\u001b[0m\u001b[0;34mf\"Itertation {i}\"\u001b[0m\u001b[0;34m,\u001b[0m\u001b[0mbins\u001b[0m\u001b[0;34m=\u001b[0m\u001b[0mnp\u001b[0m\u001b[0;34m.\u001b[0m\u001b[0mlinspace\u001b[0m\u001b[0;34m(\u001b[0m\u001b[0;36m0\u001b[0m\u001b[0;34m,\u001b[0m\u001b[0;36m2\u001b[0m\u001b[0;34m,\u001b[0m\u001b[0;36m100\u001b[0m\u001b[0;34m)\u001b[0m\u001b[0;34m)\u001b[0m\u001b[0;34m\u001b[0m\u001b[0;34m\u001b[0m\u001b[0m\n\u001b[1;32m      5\u001b[0m     \u001b[0mplt\u001b[0m\u001b[0;34m.\u001b[0m\u001b[0mlegend\u001b[0m\u001b[0;34m(\u001b[0m\u001b[0;34m)\u001b[0m\u001b[0;34m\u001b[0m\u001b[0;34m\u001b[0m\u001b[0m\n",
      "\u001b[0;32m~/anaconda3/envs/tf2/lib/python3.8/site-packages/numpy/lib/npyio.py\u001b[0m in \u001b[0;36mload\u001b[0;34m(file, mmap_mode, allow_pickle, fix_imports, encoding)\u001b[0m\n\u001b[1;32m    405\u001b[0m             \u001b[0mown_fid\u001b[0m \u001b[0;34m=\u001b[0m \u001b[0;32mFalse\u001b[0m\u001b[0;34m\u001b[0m\u001b[0;34m\u001b[0m\u001b[0m\n\u001b[1;32m    406\u001b[0m         \u001b[0;32melse\u001b[0m\u001b[0;34m:\u001b[0m\u001b[0;34m\u001b[0m\u001b[0;34m\u001b[0m\u001b[0m\n\u001b[0;32m--> 407\u001b[0;31m             \u001b[0mfid\u001b[0m \u001b[0;34m=\u001b[0m \u001b[0mstack\u001b[0m\u001b[0;34m.\u001b[0m\u001b[0menter_context\u001b[0m\u001b[0;34m(\u001b[0m\u001b[0mopen\u001b[0m\u001b[0;34m(\u001b[0m\u001b[0mos_fspath\u001b[0m\u001b[0;34m(\u001b[0m\u001b[0mfile\u001b[0m\u001b[0;34m)\u001b[0m\u001b[0;34m,\u001b[0m \u001b[0;34m\"rb\"\u001b[0m\u001b[0;34m)\u001b[0m\u001b[0;34m)\u001b[0m\u001b[0;34m\u001b[0m\u001b[0;34m\u001b[0m\u001b[0m\n\u001b[0m\u001b[1;32m    408\u001b[0m             \u001b[0mown_fid\u001b[0m \u001b[0;34m=\u001b[0m \u001b[0;32mTrue\u001b[0m\u001b[0;34m\u001b[0m\u001b[0;34m\u001b[0m\u001b[0m\n\u001b[1;32m    409\u001b[0m \u001b[0;34m\u001b[0m\u001b[0m\n",
      "\u001b[0;31mFileNotFoundError\u001b[0m: [Errno 2] No such file or directory: '/clusterfs/ml4hep_nvme2/ftoralesacosta/h1_check/h1_lepton_jet_asymmetry/models/npy_20_iterations_5boots/Rapgap_bootstrap_1_NNweights_step2_iteration_1.npy'"
     ]
    }
   ],
   "source": [
    "#Check the weights work as expected for one bootstrap\n",
    "for i in [1,2,3,4,5,10,15,19]:\n",
    "    weights = np.load(f\"{path}/Rapgap_bootstrap_{1}_NNweights_step2_iteration_{i}.npy\")\n",
    "    plt.hist(weights,label=f\"Itertation {i}\",bins=np.linspace(0,2,100))\n",
    "    plt.legend()"
   ]
  },
  {
   "cell_type": "code",
   "execution_count": null,
   "id": "2fd318a9-c3ff-4e72-b674-05062401732c",
   "metadata": {},
   "outputs": [],
   "source": [
    "#Load the first ensemble of bootstrap weights\n",
    "boot_ensemble = []\n",
    "for boot in range(1,N_Boots):\n",
    "    print(boot)\n",
    "    nn_weights_step2 = np.load(f\"{path}/Rapgap_bootstrap_{boot}_NNweights_step2_iteration_{N_Iter}.npy\")\n",
    "    boot_ensemble.append(nn_weights_step2)\n",
    "    plt.hist(nn_weights_step2,label=f\"Bootstrap {boot}\",bins=np.linspace(0,2,100),alpha=0.5)\n",
    "np.save(\"Five_Bootstraps_20Iterations.npy\",boot_ensemble)"
   ]
  },
  {
   "cell_type": "code",
   "execution_count": null,
   "id": "41174bbc-fcae-4ebc-be76-36967662aece",
   "metadata": {},
   "outputs": [],
   "source": [
    "boot_ensemble = np.asarray(boot_ensemble)"
   ]
  },
  {
   "cell_type": "markdown",
   "id": "a3428373-ff3f-4fb5-8c32-a50b635ce921",
   "metadata": {},
   "source": [
    "## Now Let's try extracting weights from models at the end of training, see if they'er usable..."
   ]
  },
  {
   "cell_type": "code",
   "execution_count": null,
   "id": "b5c7b145-6c3e-4343-a68c-d4bb75549b4e",
   "metadata": {},
   "outputs": [],
   "source": [
    "# run_iter = 4            \n",
    "path = \"/clusterfs/ml4hep_nvme2/ftoralesacosta/h1_check/h1_lepton_jet_asymmetry/models/last_iteration_only\"\n",
    "bootstrap_model_weights = []                                                                                                 \n",
    "for boot in tqdm(range(1,5)):\n",
    "\n",
    "    #Make sure to reset weights                                                                                        \n",
    "    NNweights_step2 = np.ones(len(theta0_G))                                                                           \n",
    "    NNweights_step2_hold = np.ones(len(theta0_G))                                                                      \n",
    "                                                                                                                       \n",
    "    for run_iter in range(1):                                                                                          \n",
    "        print(f\"{path}/Rapgap_bootstrap_{boot}\" )                                                               \n",
    "                                                                                                                       \n",
    "        mymodel = tf.keras.models.load_model(                                                                          \n",
    "             f\"{path}/Rapgap_bootstrap_{boot}\",compile=False)                                                                                          \n",
    "                                                                                                                       \n",
    "        NNweights_step2_hold = mymodel.predict(scaler_data.transform(theta0_G),batch_size=10000)                       \n",
    "        NNweights_step2_hold = NNweights_step2_hold/(1.-NNweights_step2_hold)                                          \n",
    "        NNweights_step2_hold = NNweights_step2_hold[:,0]                                                               \n",
    "        NNweights_step2_hold = np.squeeze(np.nan_to_num(NNweights_step2_hold,posinf=1))                                \n",
    "        NNweights_step2_hold[pass_truth==0] = 1.                                                                       \n",
    "        NNweights_step2 = NNweights_step2_hold*NNweights_step2                                                         \n",
    "                                                                                                                       \n",
    "        tf.keras.backend.clear_session()                                                                               \n",
    "                                                                                                                       \n",
    "    bootstrap_model_weights.append(NNweights_step2)                                                                          \n",
    "                                                                                                                       \n",
    "bootstrap_model_weights = np.asarray(bootstrap_model_weights)                                                                      \n",
    "np.save(\"bootsrap_lastIter_weights.npy\",bootstrap_model_weights) "
   ]
  },
  {
   "cell_type": "code",
   "execution_count": null,
   "id": "0147e60c-6262-46c4-b502-191ed13b9a59",
   "metadata": {},
   "outputs": [],
   "source": [
    "_ = plt.hist(bootstrap_model_weights[0],bins=np.linspace(0,2,100))"
   ]
  },
  {
   "cell_type": "markdown",
   "id": "5ab93e06-89dc-440a-a766-17074ba771b3",
   "metadata": {},
   "source": [
    "## Those models should have been saved along with the previous iterations. These are unusable by themselves!"
   ]
  },
  {
   "cell_type": "markdown",
   "id": "089ddd94-8013-4472-94df-2bde58905db5",
   "metadata": {},
   "source": [
    "## Switching to loading ~5 other models, this time with iterations"
   ]
  },
  {
   "cell_type": "code",
   "execution_count": null,
   "id": "5275e506-e3eb-45c2-be82-f80ae4549923",
   "metadata": {},
   "outputs": [],
   "source": [
    "N_Iter = 20 #0-19\n",
    "seeds = [8762,5986,2919,2134,2838]\n",
    "path = \"/clusterfs/ml4hep_nvme2/ftoralesacosta/h1_check/h1_lepton_jet_asymmetry/models\"\n",
    "\n",
    "bootstrap_model_weights = []\n",
    "for boot,seed in enumerate(seeds):\n",
    "    #Make sure to reset weights                                                                                        \n",
    "    NNweights_step2 = np.ones(len(theta0_G))                                                                           \n",
    "    NNweights_step2_hold = np.ones(len(theta0_G))\n",
    "    \n",
    "    for it in range(N_Iter):\n",
    "        model_string = f\"{path}/Rapgap_bootstrap_{boot+1}_{seed}Iteration_{it}model\"\n",
    "                \n",
    "        print(\"Loading \"+model_string)                                                               \n",
    "                                                                                                                       \n",
    "        mymodel = tf.keras.models.load_model(                                                                          \n",
    "             f\"{model_string}\",compile=False)                                                                                          \n",
    "                                                                                                                       \n",
    "        NNweights_step2_hold = mymodel.predict(scaler_data.transform(theta0_G),batch_size=10000)                       \n",
    "        NNweights_step2_hold = NNweights_step2_hold/(1.-NNweights_step2_hold)                                          \n",
    "        NNweights_step2_hold = NNweights_step2_hold[:,0]                                                               \n",
    "        NNweights_step2_hold = np.squeeze(np.nan_to_num(NNweights_step2_hold,posinf=1))                                \n",
    "        NNweights_step2_hold[pass_truth==0] = 1.                                                                       \n",
    "        NNweights_step2 = NNweights_step2_hold*NNweights_step2\n",
    "        \n",
    "        tf.keras.backend.clear_session()\n",
    "\n",
    "    bootstrap_model_weights.append(NNweights_step2)                                                                          \n",
    "                                                                                                                       \n",
    "bootstrap_model_weights = np.asarray(bootstrap_model_weights)                                                                      \n",
    "np.save(\"five_bootsrap_20Iter_weights.npy\",bootstrap_model_weights) "
   ]
  },
  {
   "cell_type": "code",
   "execution_count": null,
   "id": "e214c881-6043-47a4-8165-1fa7f6db92aa",
   "metadata": {},
   "outputs": [],
   "source": [
    "np.shape(bootstrap_model_weights)"
   ]
  },
  {
   "cell_type": "code",
   "execution_count": null,
   "id": "2ea9a5b9-41da-449d-aa65-3f442253e3cb",
   "metadata": {},
   "outputs": [],
   "source": [
    "N_Iter = 20 #0-19\n",
    "seeds = [7642]\n",
    "path = \"/clusterfs/ml4hep_nvme2/ftoralesacosta/h1_check/h1_lepton_jet_asymmetry/models\"\n",
    "\n",
    "no6_only = []\n",
    "for boot,seed in enumerate(seeds):\n",
    "    #Make sure to reset weights                                                                                        \n",
    "    NNweights_step2 = np.ones(len(theta0_G))                                                                           \n",
    "    NNweights_step2_hold = np.ones(len(theta0_G))\n",
    "    \n",
    "    for it in range(N_Iter):\n",
    "        model_string = f\"{path}/Rapgap_bootstrap_{6}_{seed}Iteration_{it}model\"\n",
    "                \n",
    "        print(\"Loading \"+model_string)                                                               \n",
    "                                                                                                                       \n",
    "        mymodel = tf.keras.models.load_model(                                                                          \n",
    "             f\"{model_string}\",compile=False)                                                                                          \n",
    "                                                                                                                       \n",
    "        NNweights_step2_hold = mymodel.predict(scaler_data.transform(theta0_G),batch_size=10000)                       \n",
    "        NNweights_step2_hold = NNweights_step2_hold/(1.-NNweights_step2_hold)                                          \n",
    "        NNweights_step2_hold = NNweights_step2_hold[:,0]                                                               \n",
    "        NNweights_step2_hold = np.squeeze(np.nan_to_num(NNweights_step2_hold,posinf=1))                                \n",
    "        NNweights_step2_hold[pass_truth==0] = 1.                                                                       \n",
    "        NNweights_step2 = NNweights_step2_hold*NNweights_step2\n",
    "        \n",
    "        tf.keras.backend.clear_session()\n",
    "\n",
    "    no6_only.append(NNweights_step2)                                                                          \n",
    "                                                                                                                       \n",
    "no6_only = np.asarray(no6_only)                                                                      \n"
   ]
  },
  {
   "cell_type": "code",
   "execution_count": null,
   "id": "07fa5b85-4a36-4784-b15f-32f9d277c3a0",
   "metadata": {},
   "outputs": [],
   "source": [
    "print(np.shape(bootstrap_model_weights))"
   ]
  },
  {
   "cell_type": "code",
   "execution_count": null,
   "id": "5de69a7d-3b3f-467f-8d63-bb708d9eed27",
   "metadata": {},
   "outputs": [],
   "source": [
    "#bootstrap_model_weights = np.concatenate((bootstrap_model_weights,no6_only),axis=0)\n",
    "np.save(\"6_bootsrap_20Iter_weights.npy\",bootstrap_model_weights) "
   ]
  },
  {
   "cell_type": "code",
   "execution_count": null,
   "id": "5230a5f5-ba24-49e5-a170-1503588e79b2",
   "metadata": {},
   "outputs": [],
   "source": [
    "boot_ensemble = np.concatenate((boot_ensemble,bootstrap_model_weights),axis=0)"
   ]
  },
  {
   "cell_type": "code",
   "execution_count": null,
   "id": "6927d317-3c0f-4eee-a36a-eb1c746a3bb7",
   "metadata": {},
   "outputs": [],
   "source": [
    "print(np.shape(boot_ensemble))"
   ]
  },
  {
   "cell_type": "code",
   "execution_count": null,
   "id": "117340d8-f3c6-4cdf-805d-40e4946ae880",
   "metadata": {},
   "outputs": [],
   "source": [
    "np.save(\"10_bootstrap_20Iter_weights.npy\",boot_ensemble)"
   ]
  },
  {
   "cell_type": "code",
   "execution_count": null,
   "id": "2ab613c9-133a-4460-9f41-cf409ff85c77",
   "metadata": {},
   "outputs": [],
   "source": []
  }
 ],
 "metadata": {
  "kernelspec": {
   "display_name": "h1jets",
   "language": "python",
   "name": "tf2"
  },
  "language_info": {
   "codemirror_mode": {
    "name": "ipython",
    "version": 3
   },
   "file_extension": ".py",
   "mimetype": "text/x-python",
   "name": "python",
   "nbconvert_exporter": "python",
   "pygments_lexer": "ipython3",
   "version": "3.8.11"
  }
 },
 "nbformat": 4,
 "nbformat_minor": 5
}
